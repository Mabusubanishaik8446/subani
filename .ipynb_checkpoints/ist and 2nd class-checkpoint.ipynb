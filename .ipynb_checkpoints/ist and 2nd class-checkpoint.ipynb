{
 "cells": [
  {
   "cell_type": "code",
   "execution_count": 2,
   "metadata": {},
   "outputs": [
    {
     "name": "stdout",
     "output_type": "stream",
     "text": [
      "enter a value10\n",
      "enter b value20\n",
      "your result is 30\n"
     ]
    }
   ],
   "source": [
    "a=int(input(\"enter a value\"))\n",
    "b=int(input(\"enter b value\"))\n",
    "c=a+b\n",
    "print(\"your result is\",c)"
   ]
  },
  {
   "cell_type": "code",
   "execution_count": 6,
   "metadata": {},
   "outputs": [
    {
     "name": "stdout",
     "output_type": "stream",
     "text": [
      "1\n",
      "2\n",
      "3\n",
      "4\n",
      "5\n",
      "6\n",
      "7\n",
      "8\n",
      "9\n"
     ]
    }
   ],
   "source": [
    "for i in range(1,10):\n",
    "    print(i)"
   ]
  },
  {
   "cell_type": "code",
   "execution_count": 5,
   "metadata": {},
   "outputs": [
    {
     "name": "stdout",
     "output_type": "stream",
     "text": [
      "2 4 6 8 "
     ]
    }
   ],
   "source": [
    "for i in range(1,10,):\n",
    "    if i%2==0:\n",
    "        print(i, end=' ')"
   ]
  },
  {
   "cell_type": "code",
   "execution_count": 28,
   "metadata": {},
   "outputs": [
    {
     "name": "stdout",
     "output_type": "stream",
     "text": [
      "10\n",
      "1 2 3 4 5 6 7 8 9 \n",
      " 45\n",
      "4.5\n"
     ]
    }
   ],
   "source": [
    "n=int(input())\n",
    "sum1=0\n",
    "for i in range(1,n):\n",
    "    print(i,end=\" \")\n",
    "    sum1+= i\n",
    "print(\"\\n\",sum1)\n",
    "print(sum1/n)"
   ]
  },
  {
   "cell_type": "code",
   "execution_count": 37,
   "metadata": {},
   "outputs": [
    {
     "name": "stdout",
     "output_type": "stream",
     "text": [
      "10\n",
      "20\n",
      "10 11 12 13 14 15 16 17 18 19 \n",
      "sum is 145\n",
      "average is 7.25\n"
     ]
    }
   ],
   "source": [
    "n1=int(input())\n",
    "n2=int(input())\n",
    "sum1=0\n",
    "for i in range(n1,n2):\n",
    "   \n",
    "    print(i, end=\" \")\n",
    "    sum1+=i\n",
    "print()\n",
    "print(\"sum is\",sum1)\n",
    "print(\"average is\",sum1/n2)"
   ]
  },
  {
   "cell_type": "code",
   "execution_count": 42,
   "metadata": {},
   "outputs": [
    {
     "name": "stdout",
     "output_type": "stream",
     "text": [
      "10\n",
      "0 2 4 6 8 20 "
     ]
    }
   ],
   "source": [
    "n= int(input())\n",
    "sum1=0\n",
    "for i in range(0,n,2):\n",
    "    if i %2==0:\n",
    "        print(i,end=\" \")\n",
    "        sum1=sum1+i\n",
    "print(sum1, end=\" \")\n",
    "        \n",
    "        \n",
    "    \n"
   ]
  },
  {
   "cell_type": "code",
   "execution_count": 51,
   "metadata": {},
   "outputs": [
    {
     "name": "stdout",
     "output_type": "stream",
     "text": [
      "10\n",
      "0 1 2 3 4 5 6 7 8 9 \n",
      "sum is 45\n",
      "10\n",
      "average is 4.5\n"
     ]
    }
   ],
   "source": [
    "n=int(input())\n",
    "sum1=0\n",
    "count=0\n",
    "for i in range(0,n):\n",
    "    print(i,end=\" \")\n",
    "    count+=1\n",
    "    sum1+=i\n",
    "print()\n",
    "print(\"sum is\",sum1)\n",
    "print(count)\n",
    "print(\"average is\",sum1/count)\n"
   ]
  },
  {
   "cell_type": "code",
   "execution_count": 55,
   "metadata": {},
   "outputs": [
    {
     "name": "stdout",
     "output_type": "stream",
     "text": [
      "2012\n",
      "2012 leap year\n"
     ]
    }
   ],
   "source": [
    "#leap year\n",
    "year=int(input())\n",
    "if year%4==0 and year%100!=0:\n",
    "    print(year,\"leap year\")\n",
    "elif year%100==0:\n",
    "    print(year,\"not a leap year\")\n",
    "elif year%400==0:\n",
    "    print(year,\"is leap year\")\n",
    "else:\n",
    "    print(\"not a leap year\")\n",
    "    \n"
   ]
  },
  {
   "cell_type": "code",
   "execution_count": null,
   "metadata": {},
   "outputs": [],
   "source": [
    "#factorial number\n",
    "num=int(input())\n",
    "factorial=1\n",
    "if num<0:\n",
    "    print(\"factorial is not possible\")\n",
    "elif num==0:\n",
    "    print(\"factorial of \",num, \"is 1\")\n",
    "else:\n",
    "    for i in range(1,num+1):\n",
    "        factorial =factorial *i\n",
    "    print(\"factorial of \",num,\"is\",factorial)\n",
    "    "
   ]
  },
  {
   "cell_type": "code",
   "execution_count": 2,
   "metadata": {},
   "outputs": [
    {
     "name": "stdout",
     "output_type": "stream",
     "text": [
      "7\n",
      "2\n",
      "7 is a prime number\n"
     ]
    }
   ],
   "source": [
    "#prime number\n",
    "n=int(input())\n",
    "fact_count=0\n",
    "for i in range(1,n+1):\n",
    "    if n%i==0:\n",
    "        fact_count+=1\n",
    "print(fact_count)\n",
    "if fact_count==2:\n",
    "    print(n,\"is a prime number\")\n",
    "else:\n",
    "    print(n,\"is not a prime number\")\n",
    "    \n"
   ]
  },
  {
   "cell_type": "code",
   "execution_count": 12,
   "metadata": {},
   "outputs": [
    {
     "name": "stdout",
     "output_type": "stream",
     "text": [
      "496\n",
      "the number is perfect number\n"
     ]
    }
   ],
   "source": [
    "#perfect number\n",
    "n=int(input())\n",
    "sum1=0\n",
    "for i in range(1,n):\n",
    "    if (n%i==0):\n",
    "        sum1+=i\n",
    "if (sum1==n):\n",
    "    print(\"the number is perfect number\")\n",
    "else:\n",
    "    print(\"the number is not a perfect number\")\n",
    "    \n"
   ]
  },
  {
   "cell_type": "code",
   "execution_count": 17,
   "metadata": {},
   "outputs": [
    {
     "name": "stdout",
     "output_type": "stream",
     "text": [
      "20\n",
      "even number\n"
     ]
    }
   ],
   "source": [
    "n=int(input())\n",
    "sum1=0\n",
    "fact=0\n",
    "if n%2==0:\n",
    "    print(\"even number\")\n",
    "    if(n%i==0):\n",
    "        sum1+=i\n",
    "    if (sum1==n):\n",
    "        print(\"the number is perfect number\")\n",
    "else:\n",
    "    for i in range(1,n):\n",
    "        fact=fact*i\n",
    "    print(\"factorial  is\",fact)\n",
    "    \n",
    "    \n",
    "        \n"
   ]
  },
  {
   "cell_type": "code",
   "execution_count": 7,
   "metadata": {},
   "outputs": [
    {
     "name": "stdout",
     "output_type": "stream",
     "text": [
      "10\n",
      "1 2 3 4 5 7 8 9 10 "
     ]
    }
   ],
   "source": [
    "n=int(input())\n",
    "for i in range(1,n+1):\n",
    "    \n",
    "    if i==6:\n",
    "        continue\n",
    "    print(i,end=\" \")\n"
   ]
  },
  {
   "cell_type": "code",
   "execution_count": 9,
   "metadata": {},
   "outputs": [
    {
     "name": "stdout",
     "output_type": "stream",
     "text": [
      "4\n",
      "4 * 1 = 4\n",
      "4 * 2 = 8\n",
      "4 * 3 = 12\n",
      "4 * 4 = 16\n",
      "4 * 5 = 20\n",
      "4 * 6 = 24\n",
      "4 * 7 = 28\n",
      "4 * 8 = 32\n",
      "4 * 9 = 36\n",
      "4 * 10 = 40\n"
     ]
    }
   ],
   "source": [
    "#multiplication table\n",
    "def table():\n",
    "    n=int(input())\n",
    "    for i in range(1,11):\n",
    "        print(n, \"*\", i, \"=\", n*i)\n",
    "table()"
   ]
  },
  {
   "cell_type": "markdown",
   "metadata": {},
   "source": [
    "n=input()\n",
    "for i in n:\n",
    "    print(i)"
   ]
  },
  {
   "cell_type": "code",
   "execution_count": 2,
   "metadata": {},
   "outputs": [
    {
     "name": "stdout",
     "output_type": "stream",
     "text": [
      "97\n"
     ]
    }
   ],
   "source": [
    "#ascii values\n",
    "print(ord('a'))"
   ]
  },
  {
   "cell_type": "code",
   "execution_count": 5,
   "metadata": {},
   "outputs": [
    {
     "name": "stdout",
     "output_type": "stream",
     "text": [
      "p\n",
      "\u0001\n",
      "\u0002\n"
     ]
    }
   ],
   "source": [
    "#chr function\n",
    "print(chr(112))\n",
    "print(chr(1))\n",
    "print(chr(2))"
   ]
  },
  {
   "cell_type": "code",
   "execution_count": 1,
   "metadata": {},
   "outputs": [
    {
     "name": "stdout",
     "output_type": "stream",
     "text": [
      "mabu subanoi\n",
      "109\n",
      "97\n",
      "98\n",
      "117\n",
      "32\n",
      "115\n",
      "117\n",
      "98\n",
      "97\n",
      "110\n",
      "111\n",
      "105\n"
     ]
    }
   ],
   "source": [
    "#print ascii value of a given string\n",
    "name=input()\n",
    "for i in name:\n",
    "    print(ord(i))"
   ]
  },
  {
   "cell_type": "code",
   "execution_count": 8,
   "metadata": {},
   "outputs": [
    {
     "name": "stdout",
     "output_type": "stream",
     "text": [
      "m\n",
      "m\n",
      "109\n",
      "111.725\n"
     ]
    }
   ],
   "source": [
    "n=input()\n",
    "print(n)\n",
    "print(ord(n))\n",
    "if ord(n)%2==0:\n",
    "    print(\"even\")\n",
    "else:\n",
    "    print(ord(n)+ord(n)/40)"
   ]
  },
  {
   "cell_type": "code",
   "execution_count": 9,
   "metadata": {},
   "outputs": [
    {
     "name": "stdout",
     "output_type": "stream",
     "text": [
      "2 4 6 8 "
     ]
    }
   ],
   "source": [
    "i=1\n",
    "while i<10:\n",
    "    if i%2==0:\n",
    "        print(i,end=\" \")\n",
    "    i=i+1\n",
    "    "
   ]
  },
  {
   "cell_type": "code",
   "execution_count": 12,
   "metadata": {
    "scrolled": true
   },
   "outputs": [
    {
     "name": "stdout",
     "output_type": "stream",
     "text": [
      "enter your name: mabu subani\n",
      "welcome to python class mabu subani\n"
     ]
    }
   ],
   "source": [
    "#functions\n",
    "name=input(\"enter your name: \")\n",
    "def sample():\n",
    "    print(\"welcome to python class\",name)\n",
    "sample()\n",
    "    "
   ]
  },
  {
   "cell_type": "code",
   "execution_count": 6,
   "metadata": {},
   "outputs": [
    {
     "name": "stdout",
     "output_type": "stream",
     "text": [
      "10\n",
      "20\n",
      "200 multiplication result\n",
      "10\n"
     ]
    }
   ],
   "source": [
    "n=int(input())\n",
    "def local():\n",
    "    n1=int(input())\n",
    "    print(n*n1,\"multiplication result\")\n",
    "local()\n",
    "print(n)"
   ]
  },
  {
   "cell_type": "code",
   "execution_count": 18,
   "metadata": {},
   "outputs": [
    {
     "name": "stdout",
     "output_type": "stream",
     "text": [
      "name is  mabu\n",
      "organisation is vignan\n"
     ]
    }
   ],
   "source": [
    "\n",
    "def required(name,org):\n",
    "    print(\"name is \",name)\n",
    "    print(\"organisation is\",org)\n",
    "required(\"mabu\",\"vignan\")\n",
    "    "
   ]
  },
  {
   "cell_type": "markdown",
   "metadata": {},
   "source": []
  },
  {
   "cell_type": "code",
   "execution_count": 20,
   "metadata": {},
   "outputs": [
    {
     "name": "stdout",
     "output_type": "stream",
     "text": [
      "addition is 40\n",
      "a value is 10 b value is 20 c value is 10\n"
     ]
    }
   ],
   "source": [
    "#default\n",
    "def default(a,b,c=10):\n",
    "    print(\"addition is\",a+b+c)\n",
    "    print(\"a value is\",a,\"b value is\",b,\"c value is\",c)\n",
    "default(10,20)"
   ]
  },
  {
   "cell_type": "code",
   "execution_count": 21,
   "metadata": {},
   "outputs": [
    {
     "ename": "NameError",
     "evalue": "name 'keywoed' is not defined",
     "output_type": "error",
     "traceback": [
      "\u001b[1;31m---------------------------------------------------------------------------\u001b[0m",
      "\u001b[1;31mNameError\u001b[0m                                 Traceback (most recent call last)",
      "\u001b[1;32m<ipython-input-21-14e947d1cec0>\u001b[0m in \u001b[0;36m<module>\u001b[1;34m\u001b[0m\n\u001b[0;32m      3\u001b[0m     \u001b[0mprint\u001b[0m\u001b[1;33m(\u001b[0m\u001b[1;34m\"your name is\"\u001b[0m\u001b[1;33m,\u001b[0m\u001b[0mfname\u001b[0m\u001b[1;33m+\u001b[0m\u001b[0mlname\u001b[0m\u001b[1;33m)\u001b[0m\u001b[1;33m\u001b[0m\u001b[1;33m\u001b[0m\u001b[0m\n\u001b[0;32m      4\u001b[0m     \u001b[0mprint\u001b[0m\u001b[1;33m(\u001b[0m\u001b[1;34m\"username is\"\u001b[0m\u001b[1;33m,\u001b[0m\u001b[0musername\u001b[0m\u001b[1;33m)\u001b[0m\u001b[1;33m\u001b[0m\u001b[1;33m\u001b[0m\u001b[0m\n\u001b[1;32m----> 5\u001b[1;33m \u001b[0mkeywoed\u001b[0m\u001b[1;33m(\u001b[0m\u001b[1;34m\"mabu\"\u001b[0m\u001b[1;33m,\u001b[0m\u001b[1;34m\"subani\"\u001b[0m\u001b[1;33m,\u001b[0m\u001b[1;34m\"mabusubhanishaik\"\u001b[0m\u001b[1;33m)\u001b[0m\u001b[1;33m\u001b[0m\u001b[1;33m\u001b[0m\u001b[0m\n\u001b[0m",
      "\u001b[1;31mNameError\u001b[0m: name 'keywoed' is not defined"
     ]
    }
   ],
   "source": [
    "#keywoed arguments\n",
    "def keyword(fname,lname,username):\n",
    "    print(\"your name is\",fname+lname)\n",
    "    print(\"username is\",username)\n",
    "keywoed(\"mabu\",\"subani\",\"mabusubhanishaik\")"
   ]
  },
  {
   "cell_type": "code",
   "execution_count": 4,
   "metadata": {},
   "outputs": [
    {
     "name": "stdout",
     "output_type": "stream",
     "text": [
      "factorial number of 4 is 4\n"
     ]
    }
   ],
   "source": [
    "def factorial(n):\n",
    "    if n<0:\n",
    "        return 0\n",
    "    elif n==0 or n==1:\n",
    "        return 1\n",
    "    else:\n",
    "        fact=1\n",
    "        while(n>1):\n",
    "            fact*=n\n",
    "            n-=1\n",
    "            return fact\n",
    "n=4;\n",
    "print(\"factorial number of\",n, \"is\",factorial(n))\n",
    "\n"
   ]
  },
  {
   "cell_type": "code",
   "execution_count": 7,
   "metadata": {},
   "outputs": [
    {
     "name": "stdout",
     "output_type": "stream",
     "text": [
      "4\n",
      "the dimension is:  4\n",
      "the created matrix is [[1, 2, 3, 4], [5, 6, 7, 8], [9, 10, 11, 12], [13, 14, 15, 16]]\n"
     ]
    }
   ],
   "source": [
    "#n*n matrix creation\n",
    "n=int(input())\n",
    "print(\"the dimension is: \",n)\n",
    "res=[list(range(1+n*i,1+n*(i+1))) for i in range(n)]\n",
    "print(\"the created matrix is\",res)\n"
   ]
  },
  {
   "cell_type": "code",
   "execution_count": 10,
   "metadata": {},
   "outputs": [
    {
     "name": "stdout",
     "output_type": "stream",
     "text": [
      "0 odd numbers are 1\n",
      "2 odd numbers are 3\n",
      "4 odd numbers are 5\n",
      "6 odd numbers are 7\n",
      "8 odd numbers are 9\n",
      "10 "
     ]
    }
   ],
   "source": [
    "for i in range(0,11):\n",
    "    if i%2==0:\n",
    "        print(i,end=\" \")\n",
    "    else:\n",
    "        print(\"odd numbers are\",i)\n",
    "\n",
    "    \n"
   ]
  },
  {
   "cell_type": "code",
   "execution_count": null,
   "metadata": {},
   "outputs": [],
   "source": []
  },
  {
   "cell_type": "code",
   "execution_count": null,
   "metadata": {},
   "outputs": [],
   "source": []
  }
 ],
 "metadata": {
  "kernelspec": {
   "display_name": "Python 3",
   "language": "python",
   "name": "python3"
  },
  "language_info": {
   "codemirror_mode": {
    "name": "ipython",
    "version": 3
   },
   "file_extension": ".py",
   "mimetype": "text/x-python",
   "name": "python",
   "nbconvert_exporter": "python",
   "pygments_lexer": "ipython3",
   "version": "3.8.5"
  }
 },
 "nbformat": 4,
 "nbformat_minor": 4
}
